{
 "cells": [
  {
   "cell_type": "markdown",
   "metadata": {
    "collapsed": true
   },
   "source": [
    "### Simple process of cleaning & melting vaccination data set"
   ]
  },
  {
   "cell_type": "code",
   "execution_count": null,
   "metadata": {
    "collapsed": true
   },
   "outputs": [],
   "source": [
    "import pandas as pd\n",
    "import os"
   ]
  },
  {
   "cell_type": "code",
   "execution_count": 61,
   "metadata": {},
   "outputs": [
    {
     "data": {
      "text/plain": [
       "'/Users/sidneyfox/Documents/DePaul/Winter2018/CSC465/FinalProject/Datasets'"
      ]
     },
     "execution_count": 61,
     "metadata": {},
     "output_type": "execute_result"
    }
   ],
   "source": [
    "os.getcwd()"
   ]
  },
  {
   "cell_type": "code",
   "execution_count": 62,
   "metadata": {},
   "outputs": [
    {
     "data": {
      "text/plain": [
       "'/Users/sidneyfox/Documents/DePaul/Winter2018/CSC465/FinalProject/Datasets'"
      ]
     },
     "execution_count": 62,
     "metadata": {},
     "output_type": "execute_result"
    }
   ],
   "source": [
    "path = '/Users/sidneyfox/Documents/DePaul/Winter2018/CSC465/FinalProject/Datasets'\n",
    "os.chdir(path)\n",
    "os.getcwd()"
   ]
  },
  {
   "cell_type": "code",
   "execution_count": 63,
   "metadata": {
    "collapsed": true
   },
   "outputs": [],
   "source": [
    "vac = pd.read_csv('InfluenzaSeasonsVaccinationCoverageTrendReport_2010_2017.csv')"
   ]
  },
  {
   "cell_type": "code",
   "execution_count": 28,
   "metadata": {
    "collapsed": true
   },
   "outputs": [],
   "source": [
    "df_2010 = pd.melt(\n",
    "        vac, \n",
    "        id_vars=['ReportName','RegionName','RegionType','PopulationRange',\n",
    "                 'PopulationType','LL','UL','CI','Sample','Target'], \n",
    "        value_vars='2010-11',\n",
    "        var_name='DateRange',\n",
    "        value_name='Metric'\n",
    ")\n",
    "\n",
    "df_2011 = pd.melt(\n",
    "        vac, \n",
    "        id_vars=['ReportName','RegionName','RegionType','PopulationRange',\n",
    "                 'PopulationType','LL2','UL3','CI4','SAMPLE5','TARGET6'], \n",
    "        value_vars='2011-12',\n",
    "        var_name='DateRange',\n",
    "        value_name='Metric'\n",
    ")\n",
    "\n",
    "df_2012 = pd.melt(\n",
    "        vac, \n",
    "        id_vars=['ReportName','RegionName','RegionType','PopulationRange',\n",
    "                 'PopulationType','LL7','UL8','CI9','SAMPLE10','TARGET11'], \n",
    "        value_vars='2012-13'\n",
    ")\n",
    "\n",
    "df_2013 = pd.melt(\n",
    "        vac, \n",
    "        id_vars=['ReportName','RegionName','RegionType','PopulationRange',\n",
    "                 'PopulationType','LL12','UL13','CI14','SAMPLE15','TARGET16'], \n",
    "        value_vars='2013-14'\n",
    ")\n",
    "\n",
    "df_2014 = pd.melt(\n",
    "        vac, \n",
    "        id_vars=['ReportName','RegionName','RegionType','PopulationRange',\n",
    "                 'PopulationType','LL17','UL18','CI19','SAMPLE20','TARGET21'], \n",
    "        value_vars='2014-15'\n",
    ")\n",
    "\n",
    "df_2015 = pd.melt(\n",
    "        vac, \n",
    "        id_vars=['ReportName','RegionName','RegionType','PopulationRange',\n",
    "                 'PopulationType','LL22','UL23','CI24','SAMPLE25','TARGET26'], \n",
    "        value_vars='2015-16'\n",
    ")\n",
    "\n",
    "df_2016 = pd.melt(\n",
    "        vac, \n",
    "        id_vars=['ReportName','RegionName','RegionType','PopulationRange',\n",
    "                 'PopulationType','LL27','UL28','CI29','SAMPLE30','TARGET31'], \n",
    "        value_vars='2016-17'\n",
    ")\n"
   ]
  },
  {
   "cell_type": "code",
   "execution_count": 34,
   "metadata": {
    "collapsed": true
   },
   "outputs": [],
   "source": [
    "df_2011.columns = df_2010.columns\n",
    "df_2012.columns = df_2010.columns\n",
    "df_2013.columns = df_2010.columns\n",
    "df_2014.columns = df_2010.columns\n",
    "df_2015.columns = df_2010.columns\n",
    "df_2016.columns = df_2010.columns"
   ]
  },
  {
   "cell_type": "code",
   "execution_count": 35,
   "metadata": {
    "collapsed": true
   },
   "outputs": [],
   "source": [
    "dfs = [df_2010, df_2011, df_2012, df_2013, df_2014, df_2015, df_2016]\n",
    "\n",
    "vac_final = pd.concat(dfs)"
   ]
  },
  {
   "cell_type": "code",
   "execution_count": 52,
   "metadata": {},
   "outputs": [
    {
     "data": {
      "text/html": [
       "<div>\n",
       "<style scoped>\n",
       "    .dataframe tbody tr th:only-of-type {\n",
       "        vertical-align: middle;\n",
       "    }\n",
       "\n",
       "    .dataframe tbody tr th {\n",
       "        vertical-align: top;\n",
       "    }\n",
       "\n",
       "    .dataframe thead th {\n",
       "        text-align: right;\n",
       "    }\n",
       "</style>\n",
       "<table border=\"1\" class=\"dataframe\">\n",
       "  <thead>\n",
       "    <tr style=\"text-align: right;\">\n",
       "      <th></th>\n",
       "      <th>ReportName</th>\n",
       "      <th>RegionName</th>\n",
       "      <th>RegionType</th>\n",
       "      <th>PopulationRange</th>\n",
       "      <th>PopulationType</th>\n",
       "      <th>LL</th>\n",
       "      <th>UL</th>\n",
       "      <th>CI</th>\n",
       "      <th>Sample</th>\n",
       "      <th>Target</th>\n",
       "      <th>DateRange</th>\n",
       "      <th>Metric</th>\n",
       "    </tr>\n",
       "  </thead>\n",
       "  <tbody>\n",
       "    <tr>\n",
       "      <th>0</th>\n",
       "      <td>Influenza vaccination (General Population) - Age</td>\n",
       "      <td>Alabama</td>\n",
       "      <td>State</td>\n",
       "      <td>≥6 months</td>\n",
       "      <td>Age</td>\n",
       "      <td>40.1</td>\n",
       "      <td>44.7</td>\n",
       "      <td>(±2.3)</td>\n",
       "      <td>8221</td>\n",
       "      <td>70.0</td>\n",
       "      <td>2010-11</td>\n",
       "      <td>42.4</td>\n",
       "    </tr>\n",
       "    <tr>\n",
       "      <th>1</th>\n",
       "      <td>Influenza vaccination (General Population) - Age</td>\n",
       "      <td>Alaska</td>\n",
       "      <td>State</td>\n",
       "      <td>≥6 months</td>\n",
       "      <td>Age</td>\n",
       "      <td>33.3</td>\n",
       "      <td>40.7</td>\n",
       "      <td>(±3.7)</td>\n",
       "      <td>4082</td>\n",
       "      <td>70.0</td>\n",
       "      <td>2010-11</td>\n",
       "      <td>37.0</td>\n",
       "    </tr>\n",
       "    <tr>\n",
       "      <th>2</th>\n",
       "      <td>Influenza vaccination (General Population) - Age</td>\n",
       "      <td>Arizona</td>\n",
       "      <td>State</td>\n",
       "      <td>≥6 months</td>\n",
       "      <td>Age</td>\n",
       "      <td>38.8</td>\n",
       "      <td>45.0</td>\n",
       "      <td>(±3.1)</td>\n",
       "      <td>7714</td>\n",
       "      <td>70.0</td>\n",
       "      <td>2010-11</td>\n",
       "      <td>41.9</td>\n",
       "    </tr>\n",
       "    <tr>\n",
       "      <th>3</th>\n",
       "      <td>Influenza vaccination (General Population) - Age</td>\n",
       "      <td>Arkansas</td>\n",
       "      <td>State</td>\n",
       "      <td>≥6 months</td>\n",
       "      <td>Age</td>\n",
       "      <td>40.9</td>\n",
       "      <td>47.5</td>\n",
       "      <td>(±3.3)</td>\n",
       "      <td>5605</td>\n",
       "      <td>70.0</td>\n",
       "      <td>2010-11</td>\n",
       "      <td>44.2</td>\n",
       "    </tr>\n",
       "    <tr>\n",
       "      <th>4</th>\n",
       "      <td>Influenza vaccination (General Population) - Age</td>\n",
       "      <td>California</td>\n",
       "      <td>State</td>\n",
       "      <td>≥6 months</td>\n",
       "      <td>Age</td>\n",
       "      <td>37.6</td>\n",
       "      <td>40.2</td>\n",
       "      <td>(±1.3)</td>\n",
       "      <td>17752</td>\n",
       "      <td>70.0</td>\n",
       "      <td>2010-11</td>\n",
       "      <td>38.9</td>\n",
       "    </tr>\n",
       "  </tbody>\n",
       "</table>\n",
       "</div>"
      ],
      "text/plain": [
       "                                         ReportName  RegionName RegionType  \\\n",
       "0  Influenza vaccination (General Population) - Age     Alabama      State   \n",
       "1  Influenza vaccination (General Population) - Age      Alaska      State   \n",
       "2  Influenza vaccination (General Population) - Age     Arizona      State   \n",
       "3  Influenza vaccination (General Population) - Age    Arkansas      State   \n",
       "4  Influenza vaccination (General Population) - Age  California      State   \n",
       "\n",
       "  PopulationRange PopulationType    LL    UL      CI Sample  Target DateRange  \\\n",
       "0       ≥6 months            Age  40.1  44.7  (±2.3)   8221    70.0   2010-11   \n",
       "1       ≥6 months            Age  33.3  40.7  (±3.7)   4082    70.0   2010-11   \n",
       "2       ≥6 months            Age  38.8  45.0  (±3.1)   7714    70.0   2010-11   \n",
       "3       ≥6 months            Age  40.9  47.5  (±3.3)   5605    70.0   2010-11   \n",
       "4       ≥6 months            Age  37.6  40.2  (±1.3)  17752    70.0   2010-11   \n",
       "\n",
       "  Metric  \n",
       "0   42.4  \n",
       "1   37.0  \n",
       "2   41.9  \n",
       "3   44.2  \n",
       "4   38.9  "
      ]
     },
     "execution_count": 52,
     "metadata": {},
     "output_type": "execute_result"
    }
   ],
   "source": [
    "vac_final.head()"
   ]
  },
  {
   "cell_type": "code",
   "execution_count": 71,
   "metadata": {},
   "outputs": [],
   "source": [
    "vac_final.to_csv('vacinationdata_final.csv',sep=',',index=False)"
   ]
  }
 ],
 "metadata": {
  "kernelspec": {
   "display_name": "Python 2",
   "language": "python",
   "name": "python2"
  },
  "language_info": {
   "codemirror_mode": {
    "name": "ipython",
    "version": 2
   },
   "file_extension": ".py",
   "mimetype": "text/x-python",
   "name": "python",
   "nbconvert_exporter": "python",
   "pygments_lexer": "ipython2",
   "version": "2.7.14"
  }
 },
 "nbformat": 4,
 "nbformat_minor": 2
}
